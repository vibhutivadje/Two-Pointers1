{
 "cells": [
  {
   "cell_type": "markdown",
   "metadata": {},
   "source": [
    "Given an array nums of n integers, are there elements a, b, c in nums such that a + b + c = 0? \n",
    "Find all unique triplets in the array which gives the sum of zero.\n",
    "\n",
    "Notice that the solution set must not contain duplicate triplets.\n",
    "\n",
    "Input: nums = [-1,0,1,2,-1,-4]\n",
    "Output: [[-1,-1,2],[-1,0,1]]"
   ]
  },
  {
   "cell_type": "code",
   "execution_count": 9,
   "metadata": {},
   "outputs": [
    {
     "name": "stdout",
     "output_type": "stream",
     "text": [
      "[[-1, -1, 2], [-1, 0, 1]]\n"
     ]
    }
   ],
   "source": [
    "class Solution:\n",
    "    def threeSum(self, nums):\n",
    "       \n",
    "        result = []\n",
    "        #base condition\n",
    "        if nums is None or len(nums) ==0 or len(nums)<3:\n",
    "            return result\n",
    "        \n",
    "        nums.sort()\n",
    "        n = len(nums)\n",
    "        \n",
    "        #select a element\n",
    "        for i in range(n-2):\n",
    "            #checking duplicates for a\n",
    "            if i > 0 and nums[i-1] == nums[i]:\n",
    "                continue\n",
    "        \n",
    "            left = i+1 #declare the b\n",
    "            right = n-1 #declare the c\n",
    "            \n",
    "            while left < right:\n",
    "                #select a, b, c\n",
    "                total = nums[i] + nums[left] + nums[right]\n",
    "                if total == 0:\n",
    "                    #create the triplet\n",
    "                    current = [nums[i], nums[left], nums[right]]\n",
    "                    result.append(current)\n",
    "                    # we can check \n",
    "                    left += 1\n",
    "                    right -= 1\n",
    "                    #left side duplicates\n",
    "                    while left < right and nums[left] == nums[left-1]:\n",
    "                        left +=1\n",
    "                      #right side duplicates\n",
    "                    while left < right and nums[right] == nums[right+1]:\n",
    "                        right -=1\n",
    "                #if total is negative, move towards right        \n",
    "                elif total < 0:\n",
    "                    left +=1\n",
    "                    \n",
    "                else: \n",
    "                    right -=1\n",
    "                    \n",
    "        return result\n",
    "        \n",
    "               \n",
    "obj = Solution()\n",
    "print(obj.threeSum([-1,0,1,2,-1,-4]))"
   ]
  },
  {
   "cell_type": "code",
   "execution_count": 6,
   "metadata": {},
   "outputs": [
    {
     "name": "stdout",
     "output_type": "stream",
     "text": [
      "[[-1, -1, 2], [-1, 0, 1]]\n"
     ]
    }
   ],
   "source": [
    "class Solution:\n",
    "    def threeSum(self, nums):\n",
    "\n",
    "        result = []\n",
    "        if nums is None or len(nums) is 0 or len(nums) < 3:\n",
    "            return result\n",
    "\n",
    "        nums.sort()\n",
    "        n = len(nums)\n",
    "\n",
    "        # Selecting a out of a+b+c\n",
    "        for i in range(n - 2):\n",
    "            # checking duplicates for a\n",
    "            if i > 0 and nums[i - 1] == nums[i]:\n",
    "                continue\n",
    "            left = i + 1\n",
    "            right = n - 1\n",
    "\n",
    "            while left < right:\n",
    "                sum = nums[i] + nums[left] + nums[right]\n",
    "                if sum == 0:\n",
    "                    # Define a inside list with triplets\n",
    "                    current = [nums[i], nums[left], nums[right]]\n",
    "                    # Add this triplet to the result array\n",
    "                    result.append(current)\n",
    "                    # we can check next while conditions only if we move left and right\n",
    "                    left += 1\n",
    "                    right -= 1\n",
    "                    # Left side duplicates\n",
    "                    while left < right and nums[left] == nums[left - 1]:\n",
    "                        left += 1\n",
    "                    # Right side duplicates\n",
    "                    while left < right and nums[right] == nums[right + 1]:\n",
    "                        right -= 1\n",
    "                # if sum is negative, move towards positive number to get 0\n",
    "                elif sum < 0:\n",
    "                    left += 1\n",
    "                # if sum is positive, move towards negative number to get 0\n",
    "                else:\n",
    "                    right -= 1\n",
    "        return result\n",
    "\n",
    "\n",
    "obj = Solution()\n",
    "print(obj.threeSum([-1,0,1,2,-1,-4]))"
   ]
  },
  {
   "cell_type": "code",
   "execution_count": null,
   "metadata": {},
   "outputs": [],
   "source": []
  }
 ],
 "metadata": {
  "kernelspec": {
   "display_name": "Python 3",
   "language": "python",
   "name": "python3"
  },
  "language_info": {
   "codemirror_mode": {
    "name": "ipython",
    "version": 3
   },
   "file_extension": ".py",
   "mimetype": "text/x-python",
   "name": "python",
   "nbconvert_exporter": "python",
   "pygments_lexer": "ipython3",
   "version": "3.7.7"
  }
 },
 "nbformat": 4,
 "nbformat_minor": 4
}
