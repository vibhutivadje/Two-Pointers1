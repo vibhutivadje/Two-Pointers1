{
 "cells": [
  {
   "cell_type": "markdown",
   "metadata": {},
   "source": [
    "Given n non-negative integers a1, a2, ..., an , where each represents a point at coordinate (i, ai). \n",
    "n vertical lines are drawn such that the two endpoints of the line i is at (i, ai) and (i, 0). \n",
    "Find two lines, which, together with the x-axis forms a container, such that the container contains the most water.\n",
    "\n",
    "Notice that you may not slant the container."
   ]
  },
  {
   "cell_type": "markdown",
   "metadata": {},
   "source": [
    "# Solution1:"
   ]
  },
  {
   "cell_type": "code",
   "execution_count": 4,
   "metadata": {},
   "outputs": [
    {
     "data": {
      "text/plain": [
       "49"
      ]
     },
     "execution_count": 4,
     "metadata": {},
     "output_type": "execute_result"
    }
   ],
   "source": [
    "def maxarea(height):\n",
    "    \n",
    "    left = 0\n",
    "    right = len(height)-1\n",
    "    \n",
    "    #Assign min\n",
    "    res = -float('inf')\n",
    "    \n",
    "    while left < right:\n",
    "        res = max(res, min(height[left], height[right])*(right-left)) #right - left: calculates the width of the box \n",
    "        #height = min(height[left],height[right])\n",
    "        if height[left] < height[right]:\n",
    "            left+=1\n",
    "        else:\n",
    "            right-=1\n",
    "            \n",
    "    return res\n",
    "        \n",
    "    \n",
    "maxarea(height = [1,8,6,2,5,4,8,3,7])\n",
    "\n",
    "#timecomplexity: O(n)\n",
    "#spacecomplexity: O(1)"
   ]
  },
  {
   "cell_type": "markdown",
   "metadata": {},
   "source": [
    "# Solution2: using class"
   ]
  },
  {
   "cell_type": "code",
   "execution_count": 3,
   "metadata": {},
   "outputs": [
    {
     "name": "stdout",
     "output_type": "stream",
     "text": [
      "49\n"
     ]
    }
   ],
   "source": [
    "class Solution:\n",
    "    def maxArea(self, height):\n",
    "        # Base case\n",
    "        if height is None or len(height) is 0:\n",
    "            return\n",
    "\n",
    "        # Assign min value\n",
    "        result = -float('inf')\n",
    "\n",
    "        # Define two pointers\n",
    "        left = 0\n",
    "        right = len(height) - 1\n",
    "\n",
    "        while left < right:\n",
    "            result = max(result, min(height[left], height[right]) * (right - left))\n",
    "            if height[left] < height[right]:\n",
    "                left += 1\n",
    "            else:\n",
    "                right -= 1\n",
    "        return result\n",
    "\n",
    "\n",
    "obj = Solution()\n",
    "print(obj.maxArea([1,8,6,2,5,4,8,3,7]))\n",
    "\n",
    "#timecomplexity: O(n)\n",
    "#spacecomplexity: O(1)\n"
   ]
  },
  {
   "cell_type": "markdown",
   "metadata": {},
   "source": [
    "# Solution:Brute Force"
   ]
  },
  {
   "cell_type": "code",
   "execution_count": 6,
   "metadata": {},
   "outputs": [
    {
     "data": {
      "text/plain": [
       "49"
      ]
     },
     "execution_count": 6,
     "metadata": {},
     "output_type": "execute_result"
    }
   ],
   "source": [
    "def maxarea1(height):\n",
    "    \n",
    "    maxarea = 0\n",
    "    \n",
    "    for i in range(0, len(height)):\n",
    "        for j in range(1, len(height)):\n",
    "            maxarea = max(maxarea, min(height[i],height[j])*(j-i))\n",
    "        \n",
    "    return maxarea\n",
    "    \n",
    "maxarea1(height = [1,8,6,2,5,4,8,3,7])\n",
    "\n",
    "#timecomplexity: O(n-square)\n",
    "#spacecomplexity: O(1)"
   ]
  },
  {
   "cell_type": "code",
   "execution_count": null,
   "metadata": {},
   "outputs": [],
   "source": []
  }
 ],
 "metadata": {
  "kernelspec": {
   "display_name": "Python 3",
   "language": "python",
   "name": "python3"
  },
  "language_info": {
   "codemirror_mode": {
    "name": "ipython",
    "version": 3
   },
   "file_extension": ".py",
   "mimetype": "text/x-python",
   "name": "python",
   "nbconvert_exporter": "python",
   "pygments_lexer": "ipython3",
   "version": "3.7.7"
  }
 },
 "nbformat": 4,
 "nbformat_minor": 4
}
